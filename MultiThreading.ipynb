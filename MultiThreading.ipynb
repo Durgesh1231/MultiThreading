{
 "cells": [
  {
   "cell_type": "markdown",
   "id": "6b54c5a0-d45a-4293-b1fb-32367f4f6bf6",
   "metadata": {},
   "source": [
    "### ANs 1"
   ]
  },
  {
   "cell_type": "code",
   "execution_count": 1,
   "id": "b281d6d6-9838-4df3-bc66-71bf4cd97aeb",
   "metadata": {},
   "outputs": [
    {
     "name": "stdout",
     "output_type": "stream",
     "text": [
      "Number: 1\n",
      "Number: 2\n",
      "Number: 3\n",
      "Number: 4\n",
      "Number: 5\n",
      "Thread execution completed.\n"
     ]
    }
   ],
   "source": [
    "'''\n",
    "\n",
    "Multithreading in Python refers to the concurrent execution of multiple threads within a single process. Each thread represents \n",
    "a separate flow of execution, allowing multiple tasks to be performed simultaneously or concurrently. Multithreading enables parallelism and \n",
    "can improve the performance and responsiveness of applications, especially in scenarios where tasks can be executed concurrently, \n",
    "such as I/O-bound operations.\n",
    "\n",
    "Multithreading is used for various purposes, including:\n",
    "\n",
    "1.Concurrency\n",
    "2.Asynchronous I/O\n",
    "3.Responsive user interfaces\n",
    "4.Parallel processing\n",
    "\n",
    "Syntax  '''\n",
    "\n",
    "import threading\n",
    "\n",
    "def print_numbers():\n",
    "    for i in range(1, 6):\n",
    "        print(f\"Number: {i}\")\n",
    "\n",
    "# Create a thread\n",
    "thread = threading.Thread(target=print_numbers)\n",
    "\n",
    "# Start the thread\n",
    "thread.start()\n",
    "\n",
    "# Wait for the thread to finish (optional)\n",
    "thread.join()\n",
    "\n",
    "print(\"Thread execution completed.\")\n"
   ]
  },
  {
   "cell_type": "code",
   "execution_count": null,
   "id": "6cde49f2-ccbc-49fe-bfea-96cd020becfa",
   "metadata": {},
   "outputs": [],
   "source": []
  },
  {
   "cell_type": "markdown",
   "id": "b3b9661d-5033-428c-ae7f-e5f8d6bcdc3d",
   "metadata": {},
   "source": [
    "### Ans 2.\n"
   ]
  },
  {
   "cell_type": "code",
   "execution_count": 3,
   "id": "ec45a177-75a3-4318-8985-511149bac264",
   "metadata": {},
   "outputs": [
    {
     "name": "stdout",
     "output_type": "stream",
     "text": [
      "Active count function\n",
      "Hello\n",
      "Hello\n",
      "Hello\n",
      "Hello\n",
      "Hello\n",
      "Number of active threads: 8\n",
      "current thrad function\n",
      "Current thread: Thread-20 (print_thread_name)\n",
      "enumerate function\n",
      "Thread: MainThread\n",
      "Thread: IOPub\n",
      "Thread: Heartbeat\n",
      "Thread: Thread-3 (_watch_pipe_fd)\n",
      "Thread: Thread-4 (_watch_pipe_fd)\n",
      "Thread: Control\n",
      "Thread: IPythonHistorySavingThread\n",
      "Thread: Thread-2\n"
     ]
    },
    {
     "name": "stderr",
     "output_type": "stream",
     "text": [
      "/tmp/ipykernel_1052/1518117695.py:19: DeprecationWarning: activeCount() is deprecated, use active_count() instead\n",
      "  print(\"Number of active threads:\", threading.activeCount())\n",
      "/tmp/ipykernel_1052/1518117695.py:31: DeprecationWarning: currentThread() is deprecated, use current_thread() instead\n",
      "  print(\"Current thread:\", threading.currentThread().getName())\n",
      "/tmp/ipykernel_1052/1518117695.py:31: DeprecationWarning: getName() is deprecated, get the name attribute instead\n",
      "  print(\"Current thread:\", threading.currentThread().getName())\n",
      "/tmp/ipykernel_1052/1518117695.py:49: DeprecationWarning: getName() is deprecated, get the name attribute instead\n",
      "  print(\"Thread:\", thread.getName())\n"
     ]
    }
   ],
   "source": [
    "'''\n",
    "The threading module in Python is used for creating, managing, and synchronizing threads. It provides a high-level interface for working with threads,\n",
    "allowing developers to write concurrent and parallel programs more easily. Some of the common use cases of the threading module include:\n",
    "\n",
    "1.activeCount(): This function returns the number of Thread objects that are currently alive. It is a static method of the Thread class.\n",
    "\n",
    "Syntax-  '''\n",
    "\n",
    "import threading\n",
    "\n",
    "print('Active count function')\n",
    "\n",
    "# Create and start some threads\n",
    "threads = [threading.Thread(target=lambda: print(\"Hello\")) for _ in range(5)]\n",
    "for thread in threads:\n",
    "    thread.start()\n",
    "\n",
    "# Get the number of active threads\n",
    "print(\"Number of active threads:\", threading.activeCount())\n",
    "\n",
    "'''\n",
    "2.currentThread(): This function returns the currently executing Thread object. It is a static method of the Thread class.\n",
    "\n",
    "Syntax-'''\n",
    "\n",
    "import threading\n",
    "\n",
    "print('current thrad function')\n",
    "\n",
    "def print_thread_name():\n",
    "    print(\"Current thread:\", threading.currentThread().getName())\n",
    "\n",
    "# Create and start a thread\n",
    "thread = threading.Thread(target=print_thread_name)\n",
    "thread.start()\n",
    "\n",
    "\n",
    "'''\n",
    "3.enumerate(): This function returns a list of all Thread objects currently alive. It is a static method of the Thread class.\n",
    "\n",
    "Syntax-'''\n",
    "\n",
    "import threading\n",
    "\n",
    "print('enumerate function')\n",
    "\n",
    "def print_thread_names():\n",
    "    for thread in threading.enumerate():\n",
    "        print(\"Thread:\", thread.getName())\n",
    "\n",
    "# Create and start some threads\n",
    "threads = [threading.Thread(target=lambda: None) for _ in range(3)]\n",
    "for thread in threads:\n",
    "    thread.start()\n",
    "\n",
    "# Print the names of all active threads\n",
    "print_thread_names()\n"
   ]
  },
  {
   "cell_type": "code",
   "execution_count": null,
   "id": "50701362-9689-4c06-bfe4-93835b6bc05d",
   "metadata": {},
   "outputs": [],
   "source": []
  },
  {
   "cell_type": "markdown",
   "id": "a1ecf520-7aa4-4286-a0e4-3dc808f167cb",
   "metadata": {},
   "source": [
    "### Ans 3.\n"
   ]
  },
  {
   "cell_type": "code",
   "execution_count": 6,
   "id": "cb498dbd-d1e1-4b78-b09e-ff3e486296a0",
   "metadata": {},
   "outputs": [
    {
     "name": "stdout",
     "output_type": "stream",
     "text": [
      "Thread is running\n",
      "0\n",
      "1\n",
      "2\n",
      "3\n",
      "4\n",
      "0\n",
      "1\n",
      "2\n",
      "3\n",
      "4\n",
      "Thread execution completed\n"
     ]
    },
    {
     "ename": "AttributeError",
     "evalue": "'Thread' object has no attribute 'isAlive'",
     "output_type": "error",
     "traceback": [
      "\u001b[0;31m---------------------------------------------------------------------------\u001b[0m",
      "\u001b[0;31mAttributeError\u001b[0m                            Traceback (most recent call last)",
      "Cell \u001b[0;32mIn[6], line 74\u001b[0m\n\u001b[1;32m     72\u001b[0m thread \u001b[38;5;241m=\u001b[39m threading\u001b[38;5;241m.\u001b[39mThread(target\u001b[38;5;241m=\u001b[39mmy_function)\n\u001b[1;32m     73\u001b[0m thread\u001b[38;5;241m.\u001b[39mstart()\n\u001b[0;32m---> 74\u001b[0m \u001b[38;5;28mprint\u001b[39m(\u001b[38;5;124m\"\u001b[39m\u001b[38;5;124mThread is alive:\u001b[39m\u001b[38;5;124m\"\u001b[39m, \u001b[43mthread\u001b[49m\u001b[38;5;241;43m.\u001b[39;49m\u001b[43misAlive\u001b[49m())  \u001b[38;5;66;03m# True\u001b[39;00m\n\u001b[1;32m     75\u001b[0m thread\u001b[38;5;241m.\u001b[39mjoin()\n\u001b[1;32m     76\u001b[0m \u001b[38;5;28mprint\u001b[39m(\u001b[38;5;124m\"\u001b[39m\u001b[38;5;124mThread is alive:\u001b[39m\u001b[38;5;124m\"\u001b[39m, thread\u001b[38;5;241m.\u001b[39misAlive())  \u001b[38;5;66;03m# False\u001b[39;00m\n",
      "\u001b[0;31mAttributeError\u001b[0m: 'Thread' object has no attribute 'isAlive'"
     ]
    }
   ],
   "source": [
    "'''\n",
    "Certainly! Let's delve into the explanations of the following functions from the Thread class in Python's threading module:\n",
    "\n",
    "1.run() method:\n",
    "\n",
    "The run() method of the Thread class represents the entry point for the thread's activity. When a Thread object is created and its start() method is called, the run() method is invoked.\n",
    "You can subclass the Thread class and override the run() method to define the behavior that the thread should execute.\n",
    "\n",
    "example- '''\n",
    "\n",
    "import threading\n",
    "\n",
    "class MyThread(threading.Thread):\n",
    "    def run(self):\n",
    "        print(\"Thread is running\")\n",
    "\n",
    "thread = MyThread()\n",
    "thread.start()  # This will invoke the run() method\n",
    "\n",
    "'''\n",
    "2.start() method:\n",
    "\n",
    "The start() method of the Thread class starts the execution of the thread by invoking its run() method in a separate thread of control.\n",
    "After calling start(), the thread moves from the \"created\" state to the \"started\" state, and its run() method is executed asynchronously.\n",
    "\n",
    "example-'''\n",
    "\n",
    "import threading\n",
    "\n",
    "def print_numbers():\n",
    "    for i in range(5):\n",
    "        print(i)\n",
    "\n",
    "thread = threading.Thread(target=print_numbers)\n",
    "thread.start()  # Starts the execution of the thread\n",
    "\n",
    "'''\n",
    "3.join() method:\n",
    "\n",
    "The join() method of the Thread class blocks the calling thread until the thread whose join() method is called terminates.\n",
    "This method is used to ensure that the calling thread waits for the completion of the target thread before proceeding further.\n",
    "\n",
    "example -'''\n",
    "\n",
    "import threading\n",
    "\n",
    "def print_numbers():\n",
    "    for i in range(5):\n",
    "        print(i)\n",
    "\n",
    "thread = threading.Thread(target=print_numbers)\n",
    "thread.start()\n",
    "thread.join()  # Wait for the thread to finish before proceeding\n",
    "print(\"Thread execution completed\")\n",
    "\n",
    "\n",
    "'''\n",
    "4.isAlive() method:\n",
    "\n",
    "The isAlive() method of the Thread class returns True if the thread is currently active (i.e., it has been started and has not yet terminated),\n",
    "and False otherwise.\n",
    "This method is useful for checking the status of a thread, such as whether it is still running or has already finished executing.\n",
    "\n",
    "example- ''' \n",
    "\n",
    "import threading\n",
    "import time\n",
    "\n",
    "def my_function():\n",
    "    time.sleep(2)\n",
    "\n",
    "thread = threading.Thread(target=my_function)\n",
    "thread.start()\n",
    "print(\"Thread is alive:\", thread.isAlive())  # True\n",
    "thread.join()\n",
    "print(\"Thread is alive:\", thread.isAlive())  # False\n",
    "\n"
   ]
  },
  {
   "cell_type": "code",
   "execution_count": null,
   "id": "a91c329d-9123-44db-956e-50bbf3c9df48",
   "metadata": {},
   "outputs": [],
   "source": []
  },
  {
   "cell_type": "markdown",
   "id": "657934b1-890b-4aea-a023-eea48baa9da7",
   "metadata": {},
   "source": [
    "### Ans 4."
   ]
  },
  {
   "cell_type": "code",
   "execution_count": 8,
   "id": "9aee6a8d-89b8-487b-b2e7-48d496c2d9b2",
   "metadata": {},
   "outputs": [
    {
     "name": "stdout",
     "output_type": "stream",
     "text": [
      "List of squares:\n",
      "1 squared is 1\n",
      "2 squared is 4\n",
      "3 squared is 9\n",
      "4 squared is 16\n",
      "5 squared is 25\n",
      "List of cubes:\n",
      "1 cubed is 1\n",
      "2 cubed is 8\n",
      "3 cubed is 27\n",
      "4 cubed is 64\n",
      "5 cubed is 125\n",
      "Both threads finished execution.\n"
     ]
    }
   ],
   "source": [
    "import threading\n",
    "\n",
    "def print_squares(n):\n",
    "    print(\"List of squares:\")\n",
    "    for i in range(1, n+1):\n",
    "        print(f\"{i} squared is {i*i}\")\n",
    "\n",
    "def print_cubes(n):\n",
    "    print(\"List of cubes:\")\n",
    "    for i in range(1, n+1):\n",
    "        print(f\"{i} cubed is {i*i*i}\")\n",
    "\n",
    "# Create threads\n",
    "thread1 = threading.Thread(target=print_squares, args=(5,))\n",
    "thread2 = threading.Thread(target=print_cubes, args=(5,))\n",
    "\n",
    "# Start threads\n",
    "thread1.start()\n",
    "thread2.start()\n",
    "\n",
    "# Wait for threads to finish\n",
    "thread1.join()\n",
    "thread2.join()\n",
    "\n",
    "print(\"Both threads finished execution.\")\n"
   ]
  },
  {
   "cell_type": "markdown",
   "id": "69ec7fcb-e6c9-4861-a3b7-539611222065",
   "metadata": {},
   "source": [
    "### Ans 5."
   ]
  },
  {
   "cell_type": "code",
   "execution_count": 9,
   "id": "f699d280-831d-4a5e-bb29-a1f6c58feede",
   "metadata": {},
   "outputs": [
    {
     "data": {
      "text/plain": [
       "'\\n\\nMultithreading in programming provides several advantages and disadvantages, which are important to consider when designing and\\nimplementing multithreaded applications.\\n\\nAdvantages of multiThreading\\n\\n1.Concurrency\\n2.Improved Responsiveness3.\\n3.Resource Utilization\\n4.Simplified Design\\n5.Parallelism\\n\\nDisadvantages of multiThreading\\n\\n1.Complexity\\n2.Synchronization Overhead\\n3.Debugging and Testing\\n4.Resource Contentions\\n5.Potential for Bugs  '"
      ]
     },
     "execution_count": 9,
     "metadata": {},
     "output_type": "execute_result"
    }
   ],
   "source": [
    "'''\n",
    "\n",
    "Multithreading in programming provides several advantages and disadvantages, which are important to consider when designing and\n",
    "implementing multithreaded applications.\n",
    "\n",
    "Advantages of multiThreading\n",
    "\n",
    "1.Concurrency\n",
    "2.Improved Responsiveness3.\n",
    "3.Resource Utilization\n",
    "4.Simplified Design\n",
    "5.Parallelism\n",
    "\n",
    "Disadvantages of multiThreading\n",
    "\n",
    "1.Complexity\n",
    "2.Synchronization Overhead\n",
    "3.Debugging and Testing\n",
    "4.Resource Contentions\n",
    "5.Potential for Bugs  '''"
   ]
  },
  {
   "cell_type": "markdown",
   "id": "d1a555e0-e695-4f68-8a43-28e94db8f98c",
   "metadata": {},
   "source": [
    "### Ans 6."
   ]
  },
  {
   "cell_type": "code",
   "execution_count": 10,
   "id": "6c16e0ce-0c5f-4831-82b5-63709d6420f6",
   "metadata": {},
   "outputs": [
    {
     "data": {
      "text/plain": [
       "\"\\n\\nDeadlocks and race conditions are two common concurrency-related issues that can occur in multithreaded programs. Let's explain each of them:\\n\\nDeadlocks:\\n\\n1.A deadlock occurs when two or more threads are blocked indefinitely, waiting for each other to release resources that they need in order to proceed.\\nIn other words, each thread holds a resource that another thread requires to continue, resulting in a cyclic dependency and a standstill situation.\\n\\n2.Deadlocks typically arise when multiple threads acquire locks on resources in a different order, leading to a circular waiting pattern. \\nThis situation can occur if locks are not acquired and released in a consistent and well-defined order.\\n\\n3.Deadlocks can be challenging to detect and debug, as they often manifest as the program appearing to hang or freeze.\\n\\nexample-\\n\\nThread 1 locks Resource A and waits for Resource B\\nThread 2 locks Resource B and waits for Resource A\\n\\n\\nRace Conditions:\\n\\n1.A race condition occurs when the behavior of a program depends on the timing or interleaving of operations performed by multiple threads.\\nIn other words, the outcome of the program depends on which thread executes its operations first or in what order.\\n\\n2.Race conditions typically arise when multiple threads access and modify shared resources concurrently without proper synchronization.\\nIf the order of execution of these operations is not controlled, it can lead to unexpected and erroneous behavior.\\n\\n3.Common examples of race conditions include reading and updating shared variables, accessing shared data structures, and performing I/O operations.\\n\\nExample- :\\n\\nThread 1 reads the value of a shared variable X\\nThread 2 reads the value of variable X and updates it\\nThread 1 updates the value of variable X based on its old value\\n\\n\""
      ]
     },
     "execution_count": 10,
     "metadata": {},
     "output_type": "execute_result"
    }
   ],
   "source": [
    "'''\n",
    "\n",
    "Deadlocks and race conditions are two common concurrency-related issues that can occur in multithreaded programs. Let's explain each of them:\n",
    "\n",
    "Deadlocks:\n",
    "\n",
    "1.A deadlock occurs when two or more threads are blocked indefinitely, waiting for each other to release resources that they need in order to proceed.\n",
    "In other words, each thread holds a resource that another thread requires to continue, resulting in a cyclic dependency and a standstill situation.\n",
    "\n",
    "2.Deadlocks typically arise when multiple threads acquire locks on resources in a different order, leading to a circular waiting pattern. \n",
    "This situation can occur if locks are not acquired and released in a consistent and well-defined order.\n",
    "\n",
    "3.Deadlocks can be challenging to detect and debug, as they often manifest as the program appearing to hang or freeze.\n",
    "\n",
    "example-\n",
    "\n",
    "Thread 1 locks Resource A and waits for Resource B\n",
    "Thread 2 locks Resource B and waits for Resource A\n",
    "\n",
    "\n",
    "Race Conditions:\n",
    "\n",
    "1.A race condition occurs when the behavior of a program depends on the timing or interleaving of operations performed by multiple threads.\n",
    "In other words, the outcome of the program depends on which thread executes its operations first or in what order.\n",
    "\n",
    "2.Race conditions typically arise when multiple threads access and modify shared resources concurrently without proper synchronization.\n",
    "If the order of execution of these operations is not controlled, it can lead to unexpected and erroneous behavior.\n",
    "\n",
    "3.Common examples of race conditions include reading and updating shared variables, accessing shared data structures, and performing I/O operations.\n",
    "\n",
    "Example- :\n",
    "\n",
    "Thread 1 reads the value of a shared variable X\n",
    "Thread 2 reads the value of variable X and updates it\n",
    "Thread 1 updates the value of variable X based on its old value\n",
    "\n",
    "'''"
   ]
  },
  {
   "cell_type": "code",
   "execution_count": null,
   "id": "49ce8a81-fdd6-429c-8384-5c7c89660826",
   "metadata": {},
   "outputs": [],
   "source": []
  }
 ],
 "metadata": {
  "kernelspec": {
   "display_name": "Python 3 (ipykernel)",
   "language": "python",
   "name": "python3"
  },
  "language_info": {
   "codemirror_mode": {
    "name": "ipython",
    "version": 3
   },
   "file_extension": ".py",
   "mimetype": "text/x-python",
   "name": "python",
   "nbconvert_exporter": "python",
   "pygments_lexer": "ipython3",
   "version": "3.10.8"
  }
 },
 "nbformat": 4,
 "nbformat_minor": 5
}
